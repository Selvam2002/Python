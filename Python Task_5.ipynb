{
 "cells": [
  {
   "cell_type": "code",
   "execution_count": 50,
   "id": "13447b8f",
   "metadata": {},
   "outputs": [],
   "source": [
    "import numpy as np\n",
    "\n",
    "import pandas as pd\n",
    "\n",
    "import csv\n",
    "\n",
    "import matplotlib.pyplot as plt"
   ]
  },
  {
   "cell_type": "code",
   "execution_count": 7,
   "id": "f067d379",
   "metadata": {},
   "outputs": [],
   "source": [
    "filer=pd.read_csv(\"Batch 3-Task 5.csv\")"
   ]
  },
  {
   "cell_type": "code",
   "execution_count": 11,
   "id": "9cd3f909",
   "metadata": {},
   "outputs": [
    {
     "data": {
      "text/html": [
       "<div>\n",
       "<style scoped>\n",
       "    .dataframe tbody tr th:only-of-type {\n",
       "        vertical-align: middle;\n",
       "    }\n",
       "\n",
       "    .dataframe tbody tr th {\n",
       "        vertical-align: top;\n",
       "    }\n",
       "\n",
       "    .dataframe thead th {\n",
       "        text-align: right;\n",
       "    }\n",
       "</style>\n",
       "<table border=\"1\" class=\"dataframe\">\n",
       "  <thead>\n",
       "    <tr style=\"text-align: right;\">\n",
       "      <th></th>\n",
       "      <th>Full Name</th>\n",
       "      <th>Gender</th>\n",
       "      <th>Qualification</th>\n",
       "      <th>Degree</th>\n",
       "      <th>Pass-Out Year</th>\n",
       "      <th>College Name</th>\n",
       "      <th>City</th>\n",
       "      <th>State</th>\n",
       "      <th>What you wan to learn ?</th>\n",
       "    </tr>\n",
       "  </thead>\n",
       "  <tbody>\n",
       "    <tr>\n",
       "      <th>0</th>\n",
       "      <td>A Ajithkumar</td>\n",
       "      <td>Man</td>\n",
       "      <td>Arts &amp; Secience</td>\n",
       "      <td>BCA</td>\n",
       "      <td>2023</td>\n",
       "      <td>D.R.B.C.C.C.Hindu College</td>\n",
       "      <td>Chennai</td>\n",
       "      <td>Tamilnadu</td>\n",
       "      <td>Backend Development</td>\n",
       "    </tr>\n",
       "    <tr>\n",
       "      <th>1</th>\n",
       "      <td>A BHARANI DHARAN</td>\n",
       "      <td>Man</td>\n",
       "      <td>Engineering</td>\n",
       "      <td>BE(ECE)</td>\n",
       "      <td>2018</td>\n",
       "      <td>Adhiparasakthi Engineering College</td>\n",
       "      <td>Kanchipuram</td>\n",
       "      <td>Tamilnadu</td>\n",
       "      <td>Data Analytics</td>\n",
       "    </tr>\n",
       "    <tr>\n",
       "      <th>2</th>\n",
       "      <td>A G Aatas</td>\n",
       "      <td>Man</td>\n",
       "      <td>Engineering</td>\n",
       "      <td>b.e. aeronautical</td>\n",
       "      <td>2021</td>\n",
       "      <td>Mahendra Institute Of Engineering And Technology</td>\n",
       "      <td>salem</td>\n",
       "      <td>Tamilnadu</td>\n",
       "      <td>Data Analytics</td>\n",
       "    </tr>\n",
       "    <tr>\n",
       "      <th>3</th>\n",
       "      <td>A. Abinaya</td>\n",
       "      <td>Woman</td>\n",
       "      <td>Arts &amp; Secience</td>\n",
       "      <td>B.sc.,</td>\n",
       "      <td>2021</td>\n",
       "      <td>Sarah Tucker College</td>\n",
       "      <td>Tirunelveli</td>\n",
       "      <td>Tamilnadu</td>\n",
       "      <td>Backend Development</td>\n",
       "    </tr>\n",
       "    <tr>\n",
       "      <th>4</th>\n",
       "      <td>A. Akshaya abitha</td>\n",
       "      <td>Woman</td>\n",
       "      <td>Arts &amp; Secience</td>\n",
       "      <td>B. Sc computer science</td>\n",
       "      <td>2021</td>\n",
       "      <td>St. Xavier'S College</td>\n",
       "      <td>Tirunelveli</td>\n",
       "      <td>Tamilnadu</td>\n",
       "      <td>Backend Development</td>\n",
       "    </tr>\n",
       "    <tr>\n",
       "      <th>...</th>\n",
       "      <td>...</td>\n",
       "      <td>...</td>\n",
       "      <td>...</td>\n",
       "      <td>...</td>\n",
       "      <td>...</td>\n",
       "      <td>...</td>\n",
       "      <td>...</td>\n",
       "      <td>...</td>\n",
       "      <td>...</td>\n",
       "    </tr>\n",
       "    <tr>\n",
       "      <th>1264</th>\n",
       "      <td>Yuvaraj C</td>\n",
       "      <td>Man</td>\n",
       "      <td>Engineering</td>\n",
       "      <td>Mechanical Engineering</td>\n",
       "      <td>2022</td>\n",
       "      <td>Sri Manakula Vinayagar Engineering College</td>\n",
       "      <td>Puducherry</td>\n",
       "      <td>Puducherry</td>\n",
       "      <td>Frontend Development</td>\n",
       "    </tr>\n",
       "    <tr>\n",
       "      <th>1265</th>\n",
       "      <td>Yuvaraj.K</td>\n",
       "      <td>Man</td>\n",
       "      <td>Arts &amp; Secience</td>\n",
       "      <td>Msc</td>\n",
       "      <td>2020</td>\n",
       "      <td>Government Arts College</td>\n",
       "      <td>Karur</td>\n",
       "      <td>Tamilnadu</td>\n",
       "      <td>Frontend Development</td>\n",
       "    </tr>\n",
       "    <tr>\n",
       "      <th>1266</th>\n",
       "      <td>Yuvarajsingh P</td>\n",
       "      <td>Man</td>\n",
       "      <td>Arts &amp; Secience</td>\n",
       "      <td>M.sc.Statistics</td>\n",
       "      <td>2023</td>\n",
       "      <td>Bharathiar University</td>\n",
       "      <td>Virudhunagar</td>\n",
       "      <td>Tamilnadu</td>\n",
       "      <td>Data Analytics</td>\n",
       "    </tr>\n",
       "    <tr>\n",
       "      <th>1267</th>\n",
       "      <td>Yuvashree S</td>\n",
       "      <td>Woman</td>\n",
       "      <td>Arts &amp; Secience</td>\n",
       "      <td>Bsc computer science</td>\n",
       "      <td>2022</td>\n",
       "      <td>Sri Akilandeshwari Women College</td>\n",
       "      <td>Gingee</td>\n",
       "      <td>Tamilnadu</td>\n",
       "      <td>Devops(Cloud)</td>\n",
       "    </tr>\n",
       "    <tr>\n",
       "      <th>1268</th>\n",
       "      <td>Yuvashree S</td>\n",
       "      <td>Woman</td>\n",
       "      <td>Arts &amp; Secience</td>\n",
       "      <td>Bsc mathematics</td>\n",
       "      <td>2020</td>\n",
       "      <td>Syed Ammal Arts And Science College</td>\n",
       "      <td>ramanathapuram</td>\n",
       "      <td>Tamilnadu</td>\n",
       "      <td>Frontend Development</td>\n",
       "    </tr>\n",
       "  </tbody>\n",
       "</table>\n",
       "<p>1269 rows × 9 columns</p>\n",
       "</div>"
      ],
      "text/plain": [
       "              Full Name Gender    Qualification                   Degree  \\\n",
       "0         A Ajithkumar     Man  Arts & Secience                     BCA    \n",
       "1     A BHARANI DHARAN     Man      Engineering                  BE(ECE)   \n",
       "2             A G Aatas    Man      Engineering        b.e. aeronautical   \n",
       "3            A. Abinaya  Woman  Arts & Secience                   B.sc.,   \n",
       "4     A. Akshaya abitha  Woman  Arts & Secience   B. Sc computer science   \n",
       "...                 ...    ...              ...                      ...   \n",
       "1264          Yuvaraj C    Man      Engineering  Mechanical Engineering    \n",
       "1265          Yuvaraj.K    Man  Arts & Secience                      Msc   \n",
       "1266     Yuvarajsingh P    Man  Arts & Secience          M.sc.Statistics   \n",
       "1267        Yuvashree S  Woman  Arts & Secience     Bsc computer science   \n",
       "1268        Yuvashree S  Woman  Arts & Secience         Bsc mathematics    \n",
       "\n",
       "     Pass-Out Year                                      College Name  \\\n",
       "0             2023                        D.R.B.C.C.C.Hindu College    \n",
       "1             2018                Adhiparasakthi Engineering College   \n",
       "2             2021  Mahendra Institute Of Engineering And Technology   \n",
       "3             2021                             Sarah Tucker College    \n",
       "4             2021                              St. Xavier'S College   \n",
       "...            ...                                               ...   \n",
       "1264          2022       Sri Manakula Vinayagar Engineering College    \n",
       "1265          2020                          Government Arts College    \n",
       "1266          2023                            Bharathiar University    \n",
       "1267          2022                  Sri Akilandeshwari Women College   \n",
       "1268          2020               Syed Ammal Arts And Science College   \n",
       "\n",
       "                 City        State What you wan to learn ?  \n",
       "0             Chennai   Tamilnadu      Backend Development  \n",
       "1        Kanchipuram    Tamilnadu           Data Analytics  \n",
       "2               salem    Tamilnadu          Data Analytics  \n",
       "3        Tirunelveli    Tamilnadu      Backend Development  \n",
       "4         Tirunelveli    Tamilnadu     Backend Development  \n",
       "...               ...          ...                     ...  \n",
       "1264      Puducherry   Puducherry     Frontend Development  \n",
       "1265            Karur   Tamilnadu     Frontend Development  \n",
       "1266     Virudhunagar    Tamilnadu          Data Analytics  \n",
       "1267           Gingee    Tamilnadu           Devops(Cloud)  \n",
       "1268  ramanathapuram     Tamilnadu    Frontend Development  \n",
       "\n",
       "[1269 rows x 9 columns]"
      ]
     },
     "execution_count": 11,
     "metadata": {},
     "output_type": "execute_result"
    }
   ],
   "source": [
    "filer"
   ]
  },
  {
   "cell_type": "code",
   "execution_count": 9,
   "id": "d5bb46c3",
   "metadata": {},
   "outputs": [],
   "source": [
    "file=filer.copy()"
   ]
  },
  {
   "cell_type": "code",
   "execution_count": 10,
   "id": "a56ae2d5",
   "metadata": {},
   "outputs": [
    {
     "data": {
      "text/html": [
       "<div>\n",
       "<style scoped>\n",
       "    .dataframe tbody tr th:only-of-type {\n",
       "        vertical-align: middle;\n",
       "    }\n",
       "\n",
       "    .dataframe tbody tr th {\n",
       "        vertical-align: top;\n",
       "    }\n",
       "\n",
       "    .dataframe thead th {\n",
       "        text-align: right;\n",
       "    }\n",
       "</style>\n",
       "<table border=\"1\" class=\"dataframe\">\n",
       "  <thead>\n",
       "    <tr style=\"text-align: right;\">\n",
       "      <th></th>\n",
       "      <th>Full Name</th>\n",
       "      <th>Gender</th>\n",
       "      <th>Qualification</th>\n",
       "      <th>Degree</th>\n",
       "      <th>Pass-Out Year</th>\n",
       "      <th>College Name</th>\n",
       "      <th>City</th>\n",
       "      <th>State</th>\n",
       "      <th>What you wan to learn ?</th>\n",
       "    </tr>\n",
       "  </thead>\n",
       "  <tbody>\n",
       "    <tr>\n",
       "      <th>0</th>\n",
       "      <td>A Ajithkumar</td>\n",
       "      <td>Man</td>\n",
       "      <td>Arts &amp; Secience</td>\n",
       "      <td>BCA</td>\n",
       "      <td>2023</td>\n",
       "      <td>D.R.B.C.C.C.Hindu College</td>\n",
       "      <td>Chennai</td>\n",
       "      <td>Tamilnadu</td>\n",
       "      <td>Backend Development</td>\n",
       "    </tr>\n",
       "    <tr>\n",
       "      <th>1</th>\n",
       "      <td>A BHARANI DHARAN</td>\n",
       "      <td>Man</td>\n",
       "      <td>Engineering</td>\n",
       "      <td>BE(ECE)</td>\n",
       "      <td>2018</td>\n",
       "      <td>Adhiparasakthi Engineering College</td>\n",
       "      <td>Kanchipuram</td>\n",
       "      <td>Tamilnadu</td>\n",
       "      <td>Data Analytics</td>\n",
       "    </tr>\n",
       "    <tr>\n",
       "      <th>2</th>\n",
       "      <td>A G Aatas</td>\n",
       "      <td>Man</td>\n",
       "      <td>Engineering</td>\n",
       "      <td>b.e. aeronautical</td>\n",
       "      <td>2021</td>\n",
       "      <td>Mahendra Institute Of Engineering And Technology</td>\n",
       "      <td>salem</td>\n",
       "      <td>Tamilnadu</td>\n",
       "      <td>Data Analytics</td>\n",
       "    </tr>\n",
       "    <tr>\n",
       "      <th>3</th>\n",
       "      <td>A. Abinaya</td>\n",
       "      <td>Woman</td>\n",
       "      <td>Arts &amp; Secience</td>\n",
       "      <td>B.sc.,</td>\n",
       "      <td>2021</td>\n",
       "      <td>Sarah Tucker College</td>\n",
       "      <td>Tirunelveli</td>\n",
       "      <td>Tamilnadu</td>\n",
       "      <td>Backend Development</td>\n",
       "    </tr>\n",
       "    <tr>\n",
       "      <th>4</th>\n",
       "      <td>A. Akshaya abitha</td>\n",
       "      <td>Woman</td>\n",
       "      <td>Arts &amp; Secience</td>\n",
       "      <td>B. Sc computer science</td>\n",
       "      <td>2021</td>\n",
       "      <td>St. Xavier'S College</td>\n",
       "      <td>Tirunelveli</td>\n",
       "      <td>Tamilnadu</td>\n",
       "      <td>Backend Development</td>\n",
       "    </tr>\n",
       "    <tr>\n",
       "      <th>...</th>\n",
       "      <td>...</td>\n",
       "      <td>...</td>\n",
       "      <td>...</td>\n",
       "      <td>...</td>\n",
       "      <td>...</td>\n",
       "      <td>...</td>\n",
       "      <td>...</td>\n",
       "      <td>...</td>\n",
       "      <td>...</td>\n",
       "    </tr>\n",
       "    <tr>\n",
       "      <th>1264</th>\n",
       "      <td>Yuvaraj C</td>\n",
       "      <td>Man</td>\n",
       "      <td>Engineering</td>\n",
       "      <td>Mechanical Engineering</td>\n",
       "      <td>2022</td>\n",
       "      <td>Sri Manakula Vinayagar Engineering College</td>\n",
       "      <td>Puducherry</td>\n",
       "      <td>Puducherry</td>\n",
       "      <td>Frontend Development</td>\n",
       "    </tr>\n",
       "    <tr>\n",
       "      <th>1265</th>\n",
       "      <td>Yuvaraj.K</td>\n",
       "      <td>Man</td>\n",
       "      <td>Arts &amp; Secience</td>\n",
       "      <td>Msc</td>\n",
       "      <td>2020</td>\n",
       "      <td>Government Arts College</td>\n",
       "      <td>Karur</td>\n",
       "      <td>Tamilnadu</td>\n",
       "      <td>Frontend Development</td>\n",
       "    </tr>\n",
       "    <tr>\n",
       "      <th>1266</th>\n",
       "      <td>Yuvarajsingh P</td>\n",
       "      <td>Man</td>\n",
       "      <td>Arts &amp; Secience</td>\n",
       "      <td>M.sc.Statistics</td>\n",
       "      <td>2023</td>\n",
       "      <td>Bharathiar University</td>\n",
       "      <td>Virudhunagar</td>\n",
       "      <td>Tamilnadu</td>\n",
       "      <td>Data Analytics</td>\n",
       "    </tr>\n",
       "    <tr>\n",
       "      <th>1267</th>\n",
       "      <td>Yuvashree S</td>\n",
       "      <td>Woman</td>\n",
       "      <td>Arts &amp; Secience</td>\n",
       "      <td>Bsc computer science</td>\n",
       "      <td>2022</td>\n",
       "      <td>Sri Akilandeshwari Women College</td>\n",
       "      <td>Gingee</td>\n",
       "      <td>Tamilnadu</td>\n",
       "      <td>Devops(Cloud)</td>\n",
       "    </tr>\n",
       "    <tr>\n",
       "      <th>1268</th>\n",
       "      <td>Yuvashree S</td>\n",
       "      <td>Woman</td>\n",
       "      <td>Arts &amp; Secience</td>\n",
       "      <td>Bsc mathematics</td>\n",
       "      <td>2020</td>\n",
       "      <td>Syed Ammal Arts And Science College</td>\n",
       "      <td>ramanathapuram</td>\n",
       "      <td>Tamilnadu</td>\n",
       "      <td>Frontend Development</td>\n",
       "    </tr>\n",
       "  </tbody>\n",
       "</table>\n",
       "<p>1269 rows × 9 columns</p>\n",
       "</div>"
      ],
      "text/plain": [
       "              Full Name Gender    Qualification                   Degree  \\\n",
       "0         A Ajithkumar     Man  Arts & Secience                     BCA    \n",
       "1     A BHARANI DHARAN     Man      Engineering                  BE(ECE)   \n",
       "2             A G Aatas    Man      Engineering        b.e. aeronautical   \n",
       "3            A. Abinaya  Woman  Arts & Secience                   B.sc.,   \n",
       "4     A. Akshaya abitha  Woman  Arts & Secience   B. Sc computer science   \n",
       "...                 ...    ...              ...                      ...   \n",
       "1264          Yuvaraj C    Man      Engineering  Mechanical Engineering    \n",
       "1265          Yuvaraj.K    Man  Arts & Secience                      Msc   \n",
       "1266     Yuvarajsingh P    Man  Arts & Secience          M.sc.Statistics   \n",
       "1267        Yuvashree S  Woman  Arts & Secience     Bsc computer science   \n",
       "1268        Yuvashree S  Woman  Arts & Secience         Bsc mathematics    \n",
       "\n",
       "     Pass-Out Year                                      College Name  \\\n",
       "0             2023                        D.R.B.C.C.C.Hindu College    \n",
       "1             2018                Adhiparasakthi Engineering College   \n",
       "2             2021  Mahendra Institute Of Engineering And Technology   \n",
       "3             2021                             Sarah Tucker College    \n",
       "4             2021                              St. Xavier'S College   \n",
       "...            ...                                               ...   \n",
       "1264          2022       Sri Manakula Vinayagar Engineering College    \n",
       "1265          2020                          Government Arts College    \n",
       "1266          2023                            Bharathiar University    \n",
       "1267          2022                  Sri Akilandeshwari Women College   \n",
       "1268          2020               Syed Ammal Arts And Science College   \n",
       "\n",
       "                 City        State What you wan to learn ?  \n",
       "0             Chennai   Tamilnadu      Backend Development  \n",
       "1        Kanchipuram    Tamilnadu           Data Analytics  \n",
       "2               salem    Tamilnadu          Data Analytics  \n",
       "3        Tirunelveli    Tamilnadu      Backend Development  \n",
       "4         Tirunelveli    Tamilnadu     Backend Development  \n",
       "...               ...          ...                     ...  \n",
       "1264      Puducherry   Puducherry     Frontend Development  \n",
       "1265            Karur   Tamilnadu     Frontend Development  \n",
       "1266     Virudhunagar    Tamilnadu          Data Analytics  \n",
       "1267           Gingee    Tamilnadu           Devops(Cloud)  \n",
       "1268  ramanathapuram     Tamilnadu    Frontend Development  \n",
       "\n",
       "[1269 rows x 9 columns]"
      ]
     },
     "execution_count": 10,
     "metadata": {},
     "output_type": "execute_result"
    }
   ],
   "source": [
    "file"
   ]
  },
  {
   "cell_type": "code",
   "execution_count": 23,
   "id": "9d320be4",
   "metadata": {},
   "outputs": [
    {
     "name": "stdout",
     "output_type": "stream",
     "text": [
      "Total no of Candidates in Batch 3 - [1269]\n"
     ]
    }
   ],
   "source": [
    "file=pd.read_csv(\"Batch 3-Task 5.csv\")\n",
    "\n",
    "num_rows=len(file)\n",
    "\n",
    "print(\"Total no of Candidates in Batch 3 -\",[num_rows])"
   ]
  },
  {
   "cell_type": "code",
   "execution_count": 38,
   "id": "41d6560e",
   "metadata": {},
   "outputs": [
    {
     "name": "stdout",
     "output_type": "stream",
     "text": [
      "Man                  919\n",
      "Woman                348\n",
      "Prefer not to say      2\n",
      "Name: Gender, dtype: int64\n"
     ]
    }
   ],
   "source": [
    "gender_counts = file['Gender'].value_counts()\n",
    "\n",
    "print(gender_counts)"
   ]
  },
  {
   "cell_type": "code",
   "execution_count": 45,
   "id": "20621117",
   "metadata": {},
   "outputs": [
    {
     "name": "stdout",
     "output_type": "stream",
     "text": [
      "Engineering        621\n",
      "Arts & Secience    548\n",
      "Others              59\n",
      "Diploma             30\n",
      "HS/HSS              11\n",
      "Name: Qualification, dtype: int64\n"
     ]
    }
   ],
   "source": [
    "Qualification_counts = file['Qualification'].value_counts()\n",
    "\n",
    "print(Qualification_counts)"
   ]
  },
  {
   "cell_type": "code",
   "execution_count": 49,
   "id": "959146c0",
   "metadata": {},
   "outputs": [
    {
     "name": "stdout",
     "output_type": "stream",
     "text": [
      "2023           686\n",
      "2022           232\n",
      "2021           107\n",
      "2020            87\n",
      "2019            51\n",
      "2018            35\n",
      "Before 2016     27\n",
      "2017            25\n",
      "2016            19\n",
      "Name: Pass-Out Year, dtype: int64\n"
     ]
    }
   ],
   "source": [
    "Qualification_counts = file['Pass-Out Year'].value_counts()\n",
    "\n",
    "print(Qualification_counts)"
   ]
  },
  {
   "cell_type": "code",
   "execution_count": 194,
   "id": "3dd43447",
   "metadata": {},
   "outputs": [
    {
     "name": "stdout",
     "output_type": "stream",
     "text": [
      "Frontend Development             406\n",
      "Backend Development              297\n",
      "Data Analytics                   167\n",
      "Devops(Cloud)                     75\n",
      "Mobile App Development            44\n",
      "Cyber Security                    44\n",
      "UI/UX Design                      41\n",
      "Others                            39\n",
      "Software Testing                  36\n",
      "HR/Admin                          29\n",
      "Graphics Design                   28\n",
      "Business Analysis                 17\n",
      "SEO                               11\n",
      "Social Media Management            8\n",
      "Wordpress Development              8\n",
      "Business Development               6\n",
      "Video Editing                      6\n",
      "IT Sales(International Sales)      3\n",
      "Content Writing                    2\n",
      "Youtube / Content Creation         2\n",
      "Name: What you wan to learn ?, dtype: int64\n"
     ]
    }
   ],
   "source": [
    "Most_of_Interest = file['What you wan to learn ?'].value_counts()\n",
    "\n",
    "print(Most_of_Interest)"
   ]
  },
  {
   "cell_type": "code",
   "execution_count": 172,
   "id": "7b11f5c8",
   "metadata": {},
   "outputs": [
    {
     "name": "stdout",
     "output_type": "stream",
     "text": [
      "Engineering        621\n",
      "Arts & Secience    548\n",
      "Others              59\n",
      "Diploma             30\n",
      "HS/HSS              11\n",
      "Name: Qualification, dtype: int64\n"
     ]
    },
    {
     "data": {
      "image/png": "[encoded data removed]",
      "text/plain": [
       "<Figure size 700x400 with 1 Axes>"
      ]
     },
     "metadata": {},
     "output_type": "display_data"
    }
   ],
   "source": [
    "Qualification_counts = file['Qualification'].value_counts()\n",
    "\n",
    "print(Qualification_counts)\n",
    "\n",
    "plt.figure(figsize=(7, 4))\n",
    "\n",
    "plt.bar(Qualification_counts.index, Qualification_counts.values, color=['pink','violet','grey', 'yellow','blue'])\n",
    "plt.xlabel('Qualification')\n",
    "plt.ylabel('Count')\n",
    "plt.title('Qualifications')\n",
    "plt.show()\n"
   ]
  },
  {
   "cell_type": "code",
   "execution_count": 192,
   "id": "29a1d018",
   "metadata": {},
   "outputs": [
    {
     "name": "stdout",
     "output_type": "stream",
     "text": [
      "Man                  919\n",
      "Woman                348\n",
      "Prefer not to say      2\n",
      "Name: Gender, dtype: int64\n"
     ]
    },
    {
     "data": {
      "image/png": "[encoded data removed]",
      "text/plain": [
       "<Figure size 400x400 with 1 Axes>"
      ]
     },
     "metadata": {},
     "output_type": "display_data"
    }
   ],
   "source": [
    "gender_counts = file['Gender'].value_counts()\n",
    "\n",
    "print(gender_counts)\n",
    "\n",
    "plt.figure(figsize=(4,4))\n",
    "\n",
    "ax=plt.axes()\n",
    "ax.set_facecolor('orange')\n",
    "\n",
    "plt.pie(gender_counts, labels=gender_counts.index, autopct='%1.1f%%', startangle=60,explode=(0,0.050,0),colors=['grey', 'yellow','white'],shadow=True)\n",
    "plt.title('Gender Distribution')\n",
    "plt.show()"
   ]
  },
  {
   "cell_type": "code",
   "execution_count": 158,
   "id": "b7ac321d",
   "metadata": {},
   "outputs": [
    {
     "name": "stdout",
     "output_type": "stream",
     "text": [
      "2023           686\n",
      "2022           232\n",
      "2021           107\n",
      "2020            87\n",
      "2019            51\n",
      "2018            35\n",
      "Before 2016     27\n",
      "2017            25\n",
      "2016            19\n",
      "Name: Pass-Out Year, dtype: int64\n"
     ]
    },
    {
     "data": {
      "image/png": "[encoded data removed]",
      "text/plain": [
       "<Figure size 1000x400 with 1 Axes>"
      ]
     },
     "metadata": {},
     "output_type": "display_data"
    }
   ],
   "source": [
    "Year_of_Passed= file['Pass-Out Year'].value_counts()\n",
    "\n",
    "print(Year_of_Passed)\n",
    "\n",
    "\n",
    "plt.figure(figsize=(10, 4))\n",
    "\n",
    "ax=plt.axes()\n",
    "ax.set_facecolor('orange')\n",
    "plt.bar(Year_of_Passed.index, Year_of_Passed.values, color=['purple'])\n",
    "plt.xlabel('Year')\n",
    "plt.ylabel('Count')\n",
    "plt.title('Year_of_Passed')\n",
    "\n",
    "plt.show()\n"
   ]
  },
  {
   "cell_type": "code",
   "execution_count": 227,
   "id": "b5cc4e3a",
   "metadata": {},
   "outputs": [
    {
     "name": "stdout",
     "output_type": "stream",
     "text": [
      "Frontend Development      406\n",
      "Backend Development       297\n",
      "Data Analytics            167\n",
      "Devops(Cloud)              75\n",
      "Mobile App Development     44\n",
      "Cyber Security             44\n",
      "UI/UX Design               41\n",
      "Others                     39\n",
      "Software Testing           36\n",
      "HR/Admin                   29\n",
      "Name: What you wan to learn ?, dtype: int64\n"
     ]
    },
    {
     "data": {
      "image/png": "[encoded data removed]",
      "text/plain": [
       "<Figure size 2000x400 with 1 Axes>"
      ]
     },
     "metadata": {},
     "output_type": "display_data"
    }
   ],
   "source": [
    "Most_of_Interest = file['What you wan to learn ?'].value_counts().head(10)\n",
    "\n",
    "print(Most_of_Interest)\n",
    "\n",
    "\n",
    "plt.figure(figsize=(20, 4))\n",
    "\n",
    "ax=plt.axes()\n",
    "ax.set_facecolor('skyblue')\n",
    "\n",
    "\n",
    "plt.bar(Most_of_Interest.index, Most_of_Interest.values, color=['red'])\n",
    "plt.xlabel('Most_of_Interest')\n",
    "plt.ylabel('Count')\n",
    "plt.title('Top-10_Interested_Courses')\n",
    "\n",
    "plt.show()\n",
    "\n",
    "\n"
   ]
  },
  {
   "cell_type": "code",
   "execution_count": 235,
   "id": "0143a12d",
   "metadata": {},
   "outputs": [
    {
     "data": {
      "image/png": "[encoded data removed]",
      "text/plain": [
       "<Figure size 2000x900 with 1 Axes>"
      ]
     },
     "metadata": {},
     "output_type": "display_data"
    }
   ],
   "source": [
    "Top10_City= file['City'].value_counts().head(10)\n",
    "\n",
    "\n",
    "plt.figure(figsize=(20,9))\n",
    "\n",
    "ax=plt.axes()\n",
    "ax.set_facecolor('skyblue')\n",
    "\n",
    "\n",
    "plt.barh(Most_of_Interest.index, Most_of_Interest.values, color=['blue'])\n",
    "plt.xlabel('City')\n",
    "plt.ylabel('Count')\n",
    "plt.title('Top-10_City')\n",
    "\n",
    "plt.show()\n",
    "\n"
   ]
  },
  {
   "cell_type": "code",
   "execution_count": null,
   "id": "d4313292",
   "metadata": {},
   "outputs": [],
   "source": []
  }
 ],
 "metadata": {
  "kernelspec": {
   "display_name": "Python 3 (ipykernel)",
   "language": "python",
   "name": "python3"
  },
  "language_info": {
   "codemirror_mode": {
    "name": "ipython",
    "version": 3
   },
   "file_extension": ".py",
   "mimetype": "text/x-python",
   "name": "python",
   "nbconvert_exporter": "python",
   "pygments_lexer": "ipython3",
   "version": "3.11.4"
  }
 },
 "nbformat": 4,
 "nbformat_minor": 5
}
